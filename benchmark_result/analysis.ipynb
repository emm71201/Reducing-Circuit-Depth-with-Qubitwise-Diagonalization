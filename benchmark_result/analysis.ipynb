{
 "cells": [
  {
   "cell_type": "code",
   "execution_count": 1,
   "id": "62ae7420",
   "metadata": {},
   "outputs": [],
   "source": [
    "import pandas as pd"
   ]
  },
  {
   "cell_type": "code",
   "execution_count": 2,
   "id": "ba9cd3e5",
   "metadata": {},
   "outputs": [],
   "source": [
    "ns = [5,10,15, 20, 25]\n",
    "dfs = []\n",
    "for n in ns:\n",
    "\n",
    "    df = pd.read_csv(f\"../benchmark_result/result_modified_{n}.csv\", names=[\"n\", \"cx\", \"depth\"])\n",
    "\n",
    "    dfs.append(df)"
   ]
  },
  {
   "cell_type": "code",
   "execution_count": 11,
   "id": "5c94b836",
   "metadata": {},
   "outputs": [],
   "source": [
    "depths = [[df[\"depth\"].mean(), df[\"depth\"].std(ddof=1)] for df in dfs]\n",
    "cxs = [[df[\"cx\"].mean(), df[\"cx\"].std(ddof=1)] for df in dfs]"
   ]
  },
  {
   "cell_type": "code",
   "execution_count": 12,
   "id": "ddd004b7",
   "metadata": {},
   "outputs": [],
   "source": [
    "agg_data = {\"n\":[], \"cx\":[], \"cxstd\":[], \"depth\":[], \"depthstd\":[]}\n",
    "for j in range(len(ns)):\n",
    "    agg_data[\"n\"].append(ns[j])\n",
    "    agg_data[\"cx\"].append(cxs[j][0])\n",
    "    agg_data[\"cxstd\"].append(cxs[j][1])\n",
    "    agg_data[\"depth\"].append(depths[j][0])\n",
    "    agg_data[\"depthstd\"].append(depths[j][1])\n",
    "agg_data = pd.DataFrame(agg_data)"
   ]
  },
  {
   "cell_type": "code",
   "execution_count": 13,
   "id": "27350a5d",
   "metadata": {},
   "outputs": [],
   "source": [
    "agg_data.to_csv(\"agg_data.csv\", index=False)"
   ]
  },
  {
   "cell_type": "code",
   "execution_count": 14,
   "id": "24290d68",
   "metadata": {},
   "outputs": [
    {
     "data": {
      "text/html": [
       "<div>\n",
       "<style scoped>\n",
       "    .dataframe tbody tr th:only-of-type {\n",
       "        vertical-align: middle;\n",
       "    }\n",
       "\n",
       "    .dataframe tbody tr th {\n",
       "        vertical-align: top;\n",
       "    }\n",
       "\n",
       "    .dataframe thead th {\n",
       "        text-align: right;\n",
       "    }\n",
       "</style>\n",
       "<table border=\"1\" class=\"dataframe\">\n",
       "  <thead>\n",
       "    <tr style=\"text-align: right;\">\n",
       "      <th></th>\n",
       "      <th>n</th>\n",
       "      <th>cx</th>\n",
       "      <th>cxstd</th>\n",
       "      <th>depth</th>\n",
       "      <th>depthstd</th>\n",
       "    </tr>\n",
       "  </thead>\n",
       "  <tbody>\n",
       "    <tr>\n",
       "      <th>0</th>\n",
       "      <td>5</td>\n",
       "      <td>3.20</td>\n",
       "      <td>0.894427</td>\n",
       "      <td>8.45</td>\n",
       "      <td>2.012461</td>\n",
       "    </tr>\n",
       "    <tr>\n",
       "      <th>1</th>\n",
       "      <td>10</td>\n",
       "      <td>13.25</td>\n",
       "      <td>1.585294</td>\n",
       "      <td>19.60</td>\n",
       "      <td>2.872739</td>\n",
       "    </tr>\n",
       "    <tr>\n",
       "      <th>2</th>\n",
       "      <td>15</td>\n",
       "      <td>28.55</td>\n",
       "      <td>1.731291</td>\n",
       "      <td>29.20</td>\n",
       "      <td>3.764096</td>\n",
       "    </tr>\n",
       "    <tr>\n",
       "      <th>3</th>\n",
       "      <td>20</td>\n",
       "      <td>47.20</td>\n",
       "      <td>1.908430</td>\n",
       "      <td>41.25</td>\n",
       "      <td>5.485627</td>\n",
       "    </tr>\n",
       "    <tr>\n",
       "      <th>4</th>\n",
       "      <td>25</td>\n",
       "      <td>72.25</td>\n",
       "      <td>2.510504</td>\n",
       "      <td>52.80</td>\n",
       "      <td>6.245841</td>\n",
       "    </tr>\n",
       "  </tbody>\n",
       "</table>\n",
       "</div>"
      ],
      "text/plain": [
       "    n     cx     cxstd  depth  depthstd\n",
       "0   5   3.20  0.894427   8.45  2.012461\n",
       "1  10  13.25  1.585294  19.60  2.872739\n",
       "2  15  28.55  1.731291  29.20  3.764096\n",
       "3  20  47.20  1.908430  41.25  5.485627\n",
       "4  25  72.25  2.510504  52.80  6.245841"
      ]
     },
     "execution_count": 14,
     "metadata": {},
     "output_type": "execute_result"
    }
   ],
   "source": [
    "agg_data"
   ]
  },
  {
   "cell_type": "code",
   "execution_count": null,
   "id": "5a867b5b",
   "metadata": {},
   "outputs": [],
   "source": []
  }
 ],
 "metadata": {
  "kernelspec": {
   "display_name": "Python 3 (ipykernel)",
   "language": "python",
   "name": "python3"
  },
  "language_info": {
   "codemirror_mode": {
    "name": "ipython",
    "version": 3
   },
   "file_extension": ".py",
   "mimetype": "text/x-python",
   "name": "python",
   "nbconvert_exporter": "python",
   "pygments_lexer": "ipython3",
   "version": "3.9.7"
  }
 },
 "nbformat": 4,
 "nbformat_minor": 5
}
