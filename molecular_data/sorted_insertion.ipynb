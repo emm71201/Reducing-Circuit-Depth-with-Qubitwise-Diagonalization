{
 "cells": [
  {
   "attachments": {},
   "cell_type": "markdown",
   "metadata": {},
   "source": [
    "## Implementing sorted insertion in Crawford et. al.\n",
    "### By Edison Murairi"
   ]
  },
  {
   "cell_type": "code",
   "execution_count": 1,
   "metadata": {},
   "outputs": [
    {
     "name": "stderr",
     "output_type": "stream",
     "text": [
      "OMP: Info #271: omp_set_nested routine deprecated, please use omp_set_max_active_levels instead.\n"
     ]
    },
    {
     "name": "stdout",
     "output_type": "stream",
     "text": [
      "lalalala\n"
     ]
    }
   ],
   "source": [
    "#%% importing\n",
    "import sys\n",
    "sys.path.append(\"../pdiag/\")\n",
    "import tableau\n",
    "import helpers\n",
    "import diagonalize\n",
    "# %%"
   ]
  },
  {
   "cell_type": "code",
   "execution_count": 2,
   "metadata": {},
   "outputs": [],
   "source": [
    "def get_count(pstrings):\n",
    "\n",
    "    X,Z,S,U = diagonalize.main_diagonalizer(pstrings)\n",
    "    depth = U.depth()\n",
    "\n",
    "    if \"cx\" in U.count_ops():\n",
    "        return U.count_ops()[\"cx\"], depth\n",
    "    \n",
    "    return 0, depth"
   ]
  },
  {
   "cell_type": "code",
   "execution_count": 3,
   "metadata": {},
   "outputs": [],
   "source": [
    "def commute_with_all(p, others):\n",
    "\n",
    "    \"\"\"check if pauli string p commutes with a list of pauli strings other\"\"\"\n",
    "\n",
    "    for other in others:\n",
    "\n",
    "        if not p.commute(other):\n",
    "\n",
    "            return False\n",
    "    \n",
    "    return True"
   ]
  },
  {
   "cell_type": "code",
   "execution_count": 4,
   "metadata": {},
   "outputs": [],
   "source": [
    "def grouping(pstrings):\n",
    "\n",
    "    res = {}\n",
    "    maxkey = 0\n",
    "    res[maxkey] = [pstrings[0]]\n",
    "\n",
    "    indx = 1\n",
    "    while indx < len(pstrings):\n",
    "\n",
    "        p = pstrings[indx]\n",
    "        inserted = False\n",
    "\n",
    "        for grp in range(maxkey + 1):\n",
    "\n",
    "            if commute_with_all(p, res[grp]) and not inserted:\n",
    "                \n",
    "                res[grp].append(p)\n",
    "                inserted = True\n",
    "                break\n",
    "        \n",
    "        if not inserted:\n",
    "            maxkey += 1\n",
    "            res[maxkey] = [p]\n",
    "        \n",
    "        indx += 1\n",
    "    \n",
    "    return res"
   ]
  },
  {
   "cell_type": "code",
   "execution_count": 5,
   "metadata": {},
   "outputs": [],
   "source": [
    "def sorted_insertion(pstrings):\n",
    "\n",
    "    psorted = sorted(pstrings, key=lambda p: abs(p.coef), reverse=True)\n",
    "\n",
    "    return grouping(psorted)"
   ]
  },
  {
   "cell_type": "code",
   "execution_count": null,
   "metadata": {},
   "outputs": [],
   "source": []
  }
 ],
 "metadata": {
  "kernelspec": {
   "display_name": "base",
   "language": "python",
   "name": "python3"
  },
  "language_info": {
   "codemirror_mode": {
    "name": "ipython",
    "version": 3
   },
   "file_extension": ".py",
   "mimetype": "text/x-python",
   "name": "python",
   "nbconvert_exporter": "python",
   "pygments_lexer": "ipython3",
   "version": "3.9.7"
  },
  "orig_nbformat": 4
 },
 "nbformat": 4,
 "nbformat_minor": 2
}
